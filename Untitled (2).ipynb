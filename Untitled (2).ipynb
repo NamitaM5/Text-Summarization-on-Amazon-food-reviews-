{
 "cells": [
  {
   "cell_type": "code",
   "execution_count": 68,
   "metadata": {},
   "outputs": [],
   "source": [
    "import math\n",
    "import os\n",
    "import random\n",
    "import re\n",
    "import sys\n",
    "import requests as rq\n",
    "\n",
    "\n",
    "def getTopRatedFoodOutlets(city):\n",
    "    page = 0\n",
    "    cities = []\n",
    "    rating = []\n",
    "    \n",
    "    while True:\n",
    "        page +=1\n",
    "        path = f'https://jsonmock.hackerrank.com/api/food_outlets?city={city}&page={page}'\n",
    "        r = rq.get (path)\n",
    "        res = r.json()['data']\n",
    "        if not res:\n",
    "            break\n",
    "        #print(res)\n",
    "        for a in res:\n",
    "            temp =[]\n",
    "            temp.append(a['name'])\n",
    "            temp.append(a['user_rating']['average_rating'])\n",
    "            rating.append(temp)   \n",
    "    \n",
    "    b=[]\n",
    "    maxc = max(map(lambda x:x[-1], rating))\n",
    "    for a in rating:\n",
    "        if a[-1] == maxc:\n",
    "            b.append(a[0])\n",
    "    \n",
    "#names = [key for key, value in rating.items() if value == max(rating.values())]\n",
    "    \n",
    "    return b"
   ]
  },
  {
   "cell_type": "code",
   "execution_count": 69,
   "metadata": {},
   "outputs": [
    {
     "data": {
      "text/plain": [
       "['The Saffron Tree', 'Echoes Omaha', 'Barbeque Nation']"
      ]
     },
     "execution_count": 69,
     "metadata": {},
     "output_type": "execute_result"
    }
   ],
   "source": [
    "getTopRatedFoodOutlets('Omaha')"
   ]
  },
  {
   "cell_type": "code",
   "execution_count": 13,
   "metadata": {},
   "outputs": [
    {
     "name": "stdout",
     "output_type": "stream",
     "text": [
      "43\n",
      "Jack\n"
     ]
    }
   ],
   "source": [
    "ages = {'Matt': 30,\n",
    "'Katie': 29, 'Nik': 31,'Jack': 43,'Alison': 32, 'Kevin': 43}\n",
    "# Get the max value in a Python dict\n",
    "max_value = max(ages.values ( ))\n",
    "print(max_value)\n",
    "# Returns: 43\n",
    "# Get the key for a dict's max value\n",
    "max_key = max(ages, key=ages.get)\n",
    "print (max_key)"
   ]
  },
  {
   "cell_type": "code",
   "execution_count": 58,
   "metadata": {},
   "outputs": [
    {
     "ename": "TypeError",
     "evalue": "tuple expected at most 1 argument, got 2",
     "output_type": "error",
     "traceback": [
      "\u001b[0;31m---------------------------------------------------------------------------\u001b[0m",
      "\u001b[0;31mTypeError\u001b[0m                                 Traceback (most recent call last)",
      "Input \u001b[0;32mIn [58]\u001b[0m, in \u001b[0;36m<cell line: 1>\u001b[0;34m()\u001b[0m\n\u001b[0;32m----> 1\u001b[0m \u001b[38;5;28;43mtuple\u001b[39;49m\u001b[43m(\u001b[49m\u001b[38;5;124;43m'\u001b[39;49m\u001b[38;5;124;43mdasvnlds\u001b[39;49m\u001b[38;5;124;43m'\u001b[39;49m\u001b[43m,\u001b[49m\u001b[38;5;241;43m83\u001b[39;49m\u001b[43m)\u001b[49m\n",
      "\u001b[0;31mTypeError\u001b[0m: tuple expected at most 1 argument, got 2"
     ]
    }
   ],
   "source": [
    "https://jsonmock.hackerrank.com/api/articles?author=%3Cusername%3E&page=%3CpageNumber%3E"
   ]
  },
  {
   "cell_type": "code",
   "execution_count": 6,
   "metadata": {},
   "outputs": [],
   "source": [
    "import math\n",
    "import os\n",
    "import random\n",
    "import re\n",
    "import sys\n",
    "import requests as rq\n",
    "\n",
    "\n",
    "def topArticles(username, limit):\n",
    "    page = 0\n",
    "    articles = []\n",
    "    \n",
    "    while True:\n",
    "        page +=1\n",
    "        path = f'https://jsonmock.hackerrank.com/api/articles?author={username}&page={page}'\n",
    "        r = rq.get (path)\n",
    "        res = r.json()['data']\n",
    "        if not res:\n",
    "            break\n",
    "\n",
    "        for a in res:\n",
    "            if (a['title'] == None and a['story_title'] == None):\n",
    "                pass\n",
    "            elif (a['title'] != None):\n",
    "                articleName = a['title']\n",
    "            elif a['title'] == None:\n",
    "                articleName = a['story_title']\n",
    "            \n",
    "            temp = []\n",
    "            temp.append(articleName)\n",
    "            if a['num_comments'] == None:\n",
    "                temp.append(0)\n",
    "            else:\n",
    "                temp.append(a['num_comments'])\n",
    "            articles.append(temp)\n",
    "    print(articles)\n",
    "    articles.sort(key = lambda x:(-x[1], x[0]), reverse = False)\n",
    "    \n",
    "    result =[]\n",
    "    if limit > len(articles):\n",
    "        for i in range(len(articles)):\n",
    "            result.append(articles[i][0])\n",
    "    else:\n",
    "        for i in range(limit):\n",
    "            result.append(articles[i][0])\n",
    "    return result"
   ]
  },
  {
   "cell_type": "code",
   "execution_count": 7,
   "metadata": {},
   "outputs": [
    {
     "name": "stdout",
     "output_type": "stream",
     "text": [
      "[['Steve Jobs has passed away.', 376]]\n"
     ]
    },
    {
     "data": {
      "text/plain": [
       "['Steve Jobs has passed away.']"
      ]
     },
     "execution_count": 7,
     "metadata": {},
     "output_type": "execute_result"
    }
   ],
   "source": [
    "topArticles('patricktomas',2)"
   ]
  },
  {
   "cell_type": "code",
   "execution_count": null,
   "metadata": {},
   "outputs": [],
   "source": [
    "patricktomas, 2\n",
    "panny, 4"
   ]
  },
  {
   "cell_type": "code",
   "execution_count": 8,
   "metadata": {},
   "outputs": [],
   "source": [
    "def test(A):\n",
    "    minA   = min(A)-1\n",
    "    maxA   = max(A)+1\n",
    "    result = len(A)\n",
    "    for greaterThan in (True,False):\n",
    "        prev  = A[0]\n",
    "        count = 0\n",
    "        for n in A[1:]:\n",
    "            if (prev>n) != greaterThan:\n",
    "                count += 1\n",
    "                n = minA if greaterThan else maxA\n",
    "            prev = n\n",
    "            greaterThan = not greaterThan\n",
    "        result = min(result,count)\n",
    "    return result"
   ]
  },
  {
   "cell_type": "code",
   "execution_count": 13,
   "metadata": {},
   "outputs": [],
   "source": [
    "arr = [1,2,3,4,5]"
   ]
  },
  {
   "cell_type": "code",
   "execution_count": 14,
   "metadata": {},
   "outputs": [
    {
     "data": {
      "text/plain": [
       "2"
      ]
     },
     "execution_count": 14,
     "metadata": {},
     "output_type": "execute_result"
    }
   ],
   "source": [
    "test(arr)"
   ]
  },
  {
   "cell_type": "code",
   "execution_count": null,
   "metadata": {},
   "outputs": [],
   "source": [
    "num = np.array(numbers)\n",
    "    avg = np.mean((num[num >= 0]), axis=0)\n",
    "    return avg"
   ]
  },
  {
   "cell_type": "code",
   "execution_count": 9,
   "metadata": {},
   "outputs": [],
   "source": [
    "def find_ele(arr,ele,index):\n",
    "    checker = True\n",
    "    try:\n",
    "        for i in range(index,index+ele):\n",
    "            if(arr[i]!=ele):\n",
    "                checker = False\n",
    "                break\n",
    "    except:\n",
    "        checker = False\n",
    "    return checker\n",
    "\n",
    "\n",
    "\n",
    "def difference_calculator(arr):\n",
    "    indicator1=0\n",
    "    indicator2=0\n",
    "    for i in range(len(arr)):\n",
    "        if(find_ele(arr,arr[i],i)):\n",
    "            indicator1 = indicator1 + 1\n",
    "            try:\n",
    "                if(arr[i]==i+1):\n",
    "                    indicator2 = indicator2 + 1\n",
    "            except:\n",
    "                ignore = 1\n",
    "    print(indicator1)\n",
    "    print(indicator2)\n",
    "    return abs(indicator2 - indicator1)"
   ]
  },
  {
   "cell_type": "code",
   "execution_count": 10,
   "metadata": {},
   "outputs": [],
   "source": [
    "arr = [1,2,2,4,4,4,4,2,2,2]"
   ]
  },
  {
   "cell_type": "code",
   "execution_count": 11,
   "metadata": {},
   "outputs": [
    {
     "name": "stdout",
     "output_type": "stream",
     "text": [
      "5\n",
      "3\n"
     ]
    },
    {
     "data": {
      "text/plain": [
       "2"
      ]
     },
     "execution_count": 11,
     "metadata": {},
     "output_type": "execute_result"
    }
   ],
   "source": [
    "difference_calculator(arr)"
   ]
  },
  {
   "cell_type": "code",
   "execution_count": 28,
   "metadata": {},
   "outputs": [
    {
     "name": "stdout",
     "output_type": "stream",
     "text": [
      "3\n"
     ]
    }
   ],
   "source": [
    "ind = 0\n",
    "i = 0\n",
    "arr = [1,3,3,3,4,4,4,3,3,3]\n",
    "while i < len(arr):\n",
    "    j = i\n",
    "    count = 1\n",
    "    if j+1 < len(arr):\n",
    "        while arr[j] == arr[j+1]:\n",
    "            j = j+1\n",
    "            count += 1\n",
    "            if j+1 >= len(arr):\n",
    "                break\n",
    "    if count == arr[i]:\n",
    "        ind += 1\n",
    "    i = j+1\n",
    "\n",
    "print(ind)"
   ]
  },
  {
   "cell_type": "code",
   "execution_count": 45,
   "metadata": {},
   "outputs": [
    {
     "name": "stdout",
     "output_type": "stream",
     "text": [
      "4\n",
      "0\n"
     ]
    },
    {
     "data": {
      "text/plain": [
       "<function print>"
      ]
     },
     "execution_count": 45,
     "metadata": {},
     "output_type": "execute_result"
    }
   ],
   "source": [
    "ind1 = 0\n",
    "ind2 = 0\n",
    "i = 0\n",
    "arr = [3,3,2,2,5,5,5,5,5,3,3,3,2,2]\n",
    "while i < len(arr):\n",
    "    j = i\n",
    "    count = 1\n",
    "    if j+1 < len(arr):\n",
    "        while arr[j] == arr[j+1]:\n",
    "            j = j+1\n",
    "            count += 1\n",
    "            if j+1 >= len(arr):\n",
    "                break\n",
    "    if count == arr[i]:\n",
    "        ind1 += 1\n",
    "    i = j+1\n",
    "\n",
    "print(ind1)\n",
    "print(ind2)\n",
    "print"
   ]
  },
  {
   "cell_type": "code",
   "execution_count": 77,
   "metadata": {},
   "outputs": [
    {
     "name": "stdout",
     "output_type": "stream",
     "text": [
      "1\n",
      "2\n"
     ]
    }
   ],
   "source": [
    "ind1 = 0\n",
    "ind2 = 0\n",
    "i = 0\n",
    "k = 0\n",
    "arr = [1,3,3,3,4,4,4,3,3,3]\n",
    "temp = []\n",
    "for i in range(len(arr)):\n",
    "    if i+1 == arr[i]:\n",
    "        j = i\n",
    "        count = 1\n",
    "        if j+1 < len(arr):\n",
    "            while arr[j] == arr[j+1]:\n",
    "                j = j+1\n",
    "                count += 1\n",
    "                if j+1 >= len(arr):\n",
    "                    break\n",
    "        print(count)\n",
    "        if count == i+1:\n",
    "            ind2 += 1\n",
    "    \n",
    "    \n",
    "#     if arr[i] == arr[i+1]:\n",
    "#         j = i\n",
    "#         count = 2\n",
    "#         if j+1 < len(arr):\n",
    "#             while arr[j] == arr[j+1]:\n",
    "#                 j = j+1\n",
    "#                 count += 1\n",
    "#                 if j+1 >= len(arr):\n",
    "#                     break\n",
    "#         if count == arr[i]:\n",
    "#             ind1 += 1\n",
    "        \n",
    "        \n",
    "    \n",
    "    if i == k:\n",
    "        j = i\n",
    "        count = 1\n",
    "        if j+1 < len(arr):\n",
    "            while arr[j] == arr[j+1]:\n",
    "                j = j+1\n",
    "                count += 1\n",
    "                if j+1 >= len(arr):\n",
    "                    break\n",
    "        if count == arr[i]:\n",
    "            ind1 += 1\n",
    "#     print(i)   \n",
    "        k = j+1\n",
    "        \n",
    "        \n",
    "# while i < len(arr):\n",
    "#     j = i\n",
    "#     count = 1\n",
    "#     if j+1 < len(arr):\n",
    "#         while arr[j] == arr[j+1]:\n",
    "#             j = j+1\n",
    "#             count += 1\n",
    "#             if j+1 >= len(arr):\n",
    "#                 break\n",
    "#     if count == arr[i]:\n",
    "#         ind += 1\n",
    "#     i = j+1"
   ]
  },
  {
   "cell_type": "code",
   "execution_count": 78,
   "metadata": {},
   "outputs": [
    {
     "data": {
      "text/plain": [
       "1"
      ]
     },
     "execution_count": 78,
     "metadata": {},
     "output_type": "execute_result"
    }
   ],
   "source": [
    "9"
   ]
  },
  {
   "cell_type": "code",
   "execution_count": 79,
   "metadata": {},
   "outputs": [
    {
     "data": {
      "text/plain": [
       "3"
      ]
     },
     "execution_count": 79,
     "metadata": {},
     "output_type": "execute_result"
    }
   ],
   "source": [
    "9"
   ]
  },
  {
   "cell_type": "code",
   "execution_count": 1,
   "metadata": {},
   "outputs": [],
   "source": [
    "def minimizeMemory (processes, m) :\n",
    "# Write your code here\n",
    "    total_memory = sum(processes)\n",
    "    contiguous_segment = sum(processes[:m])\n",
    "    intial_index = 0\n",
    "    max_segment = contiguous_segment\n",
    "    for i in range(m, len (processes)) :\n",
    "        contiguous_segment += processes[i]\n",
    "        contiguous_segment -= processes[intial_index]\n",
    "        intial_index += 1\n",
    "    if max_segment < contiguous_segment:\n",
    "        max_segment = contiguous_segment\n",
    "    return total_memory - max_segment"
   ]
  },
  {
   "cell_type": "code",
   "execution_count": 2,
   "metadata": {},
   "outputs": [],
   "source": [
    "processes = [10, 4, 8, 1]\n",
    "m = 2"
   ]
  },
  {
   "cell_type": "code",
   "execution_count": 3,
   "metadata": {},
   "outputs": [
    {
     "data": {
      "text/plain": [
       "9"
      ]
     },
     "execution_count": 3,
     "metadata": {},
     "output_type": "execute_result"
    }
   ],
   "source": [
    "minimizeMemory(processes, m)"
   ]
  },
  {
   "cell_type": "code",
   "execution_count": 4,
   "metadata": {},
   "outputs": [],
   "source": [
    "def check(element, list, k):\n",
    "    flag = False\n",
    "    for i in range(len(list)):\n",
    "        if abs(list[i]-element) <= k:\n",
    "            flag = True\n",
    "            break;\n",
    "    return flag\n",
    "    \n",
    "def minimumGroups(awards, k):\n",
    "    groupList =[]\n",
    "    list =[]\n",
    "    awards.sort()\n",
    "    small = awards[0]\n",
    "    list.append(awards[0])\n",
    "    for i in range(len(awards)-1):\n",
    "        if check(awards[i+1], list, k):\n",
    "            list.append(awards[i+1])\n",
    "        else:\n",
    "            groupList.append(list)\n",
    "            list=[]\n",
    "            list.append(awards[i+1])\n",
    "        if((i+1) == len(awards)-1):\n",
    "            groupList.append(list)\n",
    "           \n",
    "    return groupList"
   ]
  },
  {
   "cell_type": "code",
   "execution_count": 7,
   "metadata": {},
   "outputs": [],
   "source": [
    "awards =  [1,13,6,8,9,3,5]\n",
    "k =4"
   ]
  },
  {
   "cell_type": "code",
   "execution_count": 8,
   "metadata": {},
   "outputs": [
    {
     "data": {
      "text/plain": [
       "[[1, 3, 5, 6, 8, 9, 13]]"
      ]
     },
     "execution_count": 8,
     "metadata": {},
     "output_type": "execute_result"
    }
   ],
   "source": [
    "minimumGroups(awards, k)"
   ]
  },
  {
   "cell_type": "code",
   "execution_count": 9,
   "metadata": {},
   "outputs": [
    {
     "data": {
      "text/plain": [
       "1"
      ]
     },
     "execution_count": 9,
     "metadata": {},
     "output_type": "execute_result"
    }
   ],
   "source": [
    "len(minimumGroups(awards, k))"
   ]
  },
  {
   "cell_type": "code",
   "execution_count": null,
   "metadata": {},
   "outputs": [],
   "source": [
    "def minimumGroups (awards, k) :\n",
    "    awards.sort()\n",
    "    i=0\n",
    "    j=0\n",
    "    count = 0\n",
    "\n",
    "    while i‹len(awards) and i(Len (awards) :\n",
    "    if awards[j] - awards[i] <=k:\n",
    "        j+=1\n",
    "    else:\n",
    "    30\n",
    "    Bil\n",
    "    32 > 18\n",
    "    count+s1\n",
    "    159\n",
    "return count"
   ]
  }
 ],
 "metadata": {
  "kernelspec": {
   "display_name": "Python 3",
   "language": "python",
   "name": "python3"
  },
  "language_info": {
   "codemirror_mode": {
    "name": "ipython",
    "version": 3
   },
   "file_extension": ".py",
   "mimetype": "text/x-python",
   "name": "python",
   "nbconvert_exporter": "python",
   "pygments_lexer": "ipython3",
   "version": "3.7.4"
  }
 },
 "nbformat": 4,
 "nbformat_minor": 5
}
