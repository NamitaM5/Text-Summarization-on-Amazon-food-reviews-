{
  "cells": [
    {
      "cell_type": "markdown",
      "metadata": {
        "id": "zRl7Qf7fNcUs"
      },
      "source": [
        "# Text Summarization using Seq2Seq LSTM."
      ]
    },
    {
      "cell_type": "code",
      "execution_count": 44,
      "metadata": {
        "_cell_guid": "b1076dfc-b9ad-4769-8c92-a6c4dae69d19",
        "_uuid": "8f2839f25d086af736a60e9eeb907d3b93b6e0e5",
        "colab": {
          "base_uri": "https://localhost:8080/",
          "height": 0
        },
        "id": "_Jpu8qLEFxcY",
        "outputId": "3189ae1e-d1d6-40d9-f2b6-dd0bb0fee21a"
      },
      "outputs": [
        {
          "output_type": "stream",
          "name": "stdout",
          "text": [
            "[nltk_data] Downloading package stopwords to /root/nltk_data...\n",
            "[nltk_data]   Package stopwords is already up-to-date!\n"
          ]
        }
      ],
      "source": [
        "import numpy as np\n",
        "import pandas as pd \n",
        "import re\n",
        "from bs4 import BeautifulSoup\n",
        "from keras.preprocessing.text import Tokenizer \n",
        "from keras.preprocessing.sequence import pad_sequences\n",
        "from nltk.corpus import stopwords\n",
        "from tensorflow.keras.layers import Input, LSTM, Embedding, Dense, Concatenate, TimeDistributed\n",
        "from tensorflow.keras.models import Model\n",
        "from tensorflow.keras.callbacks import EarlyStopping\n",
        "import nltk\n",
        "nltk.download('stopwords')  \n",
        "import warnings\n",
        "pd.set_option(\"display.max_colwidth\", 200)\n",
        "warnings.filterwarnings(\"ignore\")"
      ]
    },
    {
      "cell_type": "code",
      "execution_count": 45,
      "metadata": {
        "id": "wnK5o4Z1Fxcj"
      },
      "outputs": [],
      "source": [
        "data=pd.read_csv(\"Reviews.csv\",nrows=100000)"
      ]
    },
    {
      "cell_type": "markdown",
      "metadata": {
        "id": "kGNQKvCaISIn"
      },
      "source": [
        "# Drop Duplicates and NA values"
      ]
    },
    {
      "cell_type": "code",
      "execution_count": 46,
      "metadata": {
        "id": "Cjul88oOFxcr"
      },
      "outputs": [],
      "source": [
        "data.drop_duplicates(subset=['Text'],inplace=True)\n",
        "data.dropna(axis=0,inplace=True)"
      ]
    },
    {
      "cell_type": "code",
      "execution_count": 47,
      "metadata": {
        "colab": {
          "base_uri": "https://localhost:8080/",
          "height": 0
        },
        "id": "__fy-JxTFxc9",
        "outputId": "42bdeb28-df63-4845-91d5-1b39fedabf6f"
      },
      "outputs": [
        {
          "output_type": "stream",
          "name": "stdout",
          "text": [
            "<class 'pandas.core.frame.DataFrame'>\n",
            "Int64Index: 88421 entries, 0 to 99999\n",
            "Data columns (total 10 columns):\n",
            " #   Column                  Non-Null Count  Dtype \n",
            "---  ------                  --------------  ----- \n",
            " 0   Id                      88421 non-null  int64 \n",
            " 1   ProductId               88421 non-null  object\n",
            " 2   UserId                  88421 non-null  object\n",
            " 3   ProfileName             88421 non-null  object\n",
            " 4   HelpfulnessNumerator    88421 non-null  int64 \n",
            " 5   HelpfulnessDenominator  88421 non-null  int64 \n",
            " 6   Score                   88421 non-null  int64 \n",
            " 7   Time                    88421 non-null  int64 \n",
            " 8   Summary                 88421 non-null  object\n",
            " 9   Text                    88421 non-null  object\n",
            "dtypes: int64(5), object(5)\n",
            "memory usage: 7.4+ MB\n"
          ]
        }
      ],
      "source": [
        "data.info()"
      ]
    },
    {
      "cell_type": "code",
      "execution_count": 48,
      "metadata": {
        "id": "0s6IY-x2FxdL"
      },
      "outputs": [],
      "source": [
        "contraction_mapping = {\"ain't\": \"is not\", \"aren't\": \"are not\",\"can't\": \"cannot\", \"'cause\": \"because\", \"could've\": \"could have\", \"couldn't\": \"could not\",\n",
        "                           \"didn't\": \"did not\",  \"doesn't\": \"does not\", \"don't\": \"do not\", \"hadn't\": \"had not\", \"hasn't\": \"has not\", \"haven't\": \"have not\",\n",
        "                           \"he'd\": \"he would\",\"he'll\": \"he will\", \"he's\": \"he is\", \"how'd\": \"how did\", \"how'd'y\": \"how do you\", \"how'll\": \"how will\", \"how's\": \"how is\",\n",
        "                           \"I'd\": \"I would\", \"I'd've\": \"I would have\", \"I'll\": \"I will\", \"I'll've\": \"I will have\",\"I'm\": \"I am\", \"I've\": \"I have\", \"i'd\": \"i would\",\n",
        "                           \"i'd've\": \"i would have\", \"i'll\": \"i will\",  \"i'll've\": \"i will have\",\"i'm\": \"i am\", \"i've\": \"i have\", \"isn't\": \"is not\", \"it'd\": \"it would\",\n",
        "                           \"it'd've\": \"it would have\", \"it'll\": \"it will\", \"it'll've\": \"it will have\",\"it's\": \"it is\", \"let's\": \"let us\", \"ma'am\": \"madam\",\n",
        "                           \"mayn't\": \"may not\", \"might've\": \"might have\",\"mightn't\": \"might not\",\"mightn't've\": \"might not have\", \"must've\": \"must have\",\n",
        "                           \"mustn't\": \"must not\", \"mustn't've\": \"must not have\", \"needn't\": \"need not\", \"needn't've\": \"need not have\",\"o'clock\": \"of the clock\",\n",
        "                           \"oughtn't\": \"ought not\", \"oughtn't've\": \"ought not have\", \"shan't\": \"shall not\", \"sha'n't\": \"shall not\", \"shan't've\": \"shall not have\",\n",
        "                           \"she'd\": \"she would\", \"she'd've\": \"she would have\", \"she'll\": \"she will\", \"she'll've\": \"she will have\", \"she's\": \"she is\",\n",
        "                           \"should've\": \"should have\", \"shouldn't\": \"should not\", \"shouldn't've\": \"should not have\", \"so've\": \"so have\",\"so's\": \"so as\",\n",
        "                           \"this's\": \"this is\",\"that'd\": \"that would\", \"that'd've\": \"that would have\", \"that's\": \"that is\", \"there'd\": \"there would\",\n",
        "                           \"there'd've\": \"there would have\", \"there's\": \"there is\", \"here's\": \"here is\",\"they'd\": \"they would\", \"they'd've\": \"they would have\",\n",
        "                           \"they'll\": \"they will\", \"they'll've\": \"they will have\", \"they're\": \"they are\", \"they've\": \"they have\", \"to've\": \"to have\",\n",
        "                           \"wasn't\": \"was not\", \"we'd\": \"we would\", \"we'd've\": \"we would have\", \"we'll\": \"we will\", \"we'll've\": \"we will have\", \"we're\": \"we are\",\n",
        "                           \"we've\": \"we have\", \"weren't\": \"were not\", \"what'll\": \"what will\", \"what'll've\": \"what will have\", \"what're\": \"what are\",\n",
        "                           \"what's\": \"what is\", \"what've\": \"what have\", \"when's\": \"when is\", \"when've\": \"when have\", \"where'd\": \"where did\", \"where's\": \"where is\",\n",
        "                           \"where've\": \"where have\", \"who'll\": \"who will\", \"who'll've\": \"who will have\", \"who's\": \"who is\", \"who've\": \"who have\",\n",
        "                           \"why's\": \"why is\", \"why've\": \"why have\", \"will've\": \"will have\", \"won't\": \"will not\", \"won't've\": \"will not have\",\n",
        "                           \"would've\": \"would have\", \"wouldn't\": \"would not\", \"wouldn't've\": \"would not have\", \"y'all\": \"you all\",\n",
        "                           \"y'all'd\": \"you all would\",\"y'all'd've\": \"you all would have\",\"y'all're\": \"you all are\",\"y'all've\": \"you all have\",\n",
        "                           \"you'd\": \"you would\", \"you'd've\": \"you would have\", \"you'll\": \"you will\", \"you'll've\": \"you will have\",\n",
        "                           \"you're\": \"you are\", \"you've\": \"you have\"}"
      ]
    },
    {
      "cell_type": "code",
      "execution_count": 49,
      "metadata": {
        "id": "XZr-u3OEFxdT"
      },
      "outputs": [],
      "source": [
        "stop_words = set(stopwords.words('english')) \n",
        "\n",
        "def text_cleaner(text,num):\n",
        "    newString = text.lower()\n",
        "    newString = BeautifulSoup(newString, \"lxml\").text\n",
        "    newString = re.sub(r'\\([^)]*\\)', '', newString)\n",
        "    newString = re.sub('\"','', newString)\n",
        "    newString = ' '.join([contraction_mapping[t] if t in contraction_mapping else t for t in newString.split(\" \")])    \n",
        "    newString = re.sub(r\"'s\\b\",\"\",newString)\n",
        "    newString = re.sub(\"[^a-zA-Z]\", \" \", newString) \n",
        "    newString = re.sub('[m]{2,}', 'mm', newString)\n",
        "    if(num==0):\n",
        "        tokens = [w for w in newString.split() if not w in stop_words]\n",
        "    else:\n",
        "        tokens=newString.split()\n",
        "    long_words=[]\n",
        "    for i in tokens:\n",
        "        if len(i)>1:                                                 #removing short word\n",
        "            long_words.append(i)   \n",
        "    return (\" \".join(long_words)).strip()"
      ]
    },
    {
      "cell_type": "code",
      "execution_count": 50,
      "metadata": {
        "id": "A2QAeCHWFxdY"
      },
      "outputs": [],
      "source": [
        "#call the function\n",
        "cleaned_text = []\n",
        "for t in data['Text']:\n",
        "    cleaned_text.append(text_cleaner(t,0)) "
      ]
    },
    {
      "cell_type": "code",
      "execution_count": 51,
      "metadata": {
        "colab": {
          "base_uri": "https://localhost:8080/",
          "height": 0
        },
        "id": "NCAIkhWbFxdh",
        "outputId": "3e47883f-5359-4a0c-8430-e9efe3c83e8f"
      },
      "outputs": [
        {
          "output_type": "execute_result",
          "data": {
            "text/plain": [
              "['bought several vitality canned dog food products found good quality product looks like stew processed meat smells better labrador finicky appreciates product better',\n",
              " 'product arrived labeled jumbo salted peanuts peanuts actually small sized unsalted sure error vendor intended represent product jumbo',\n",
              " 'confection around centuries light pillowy citrus gelatin nuts case filberts cut tiny squares liberally coated powdered sugar tiny mouthful heaven chewy flavorful highly recommend yummy treat familiar story lewis lion witch wardrobe treat seduces edmund selling brother sisters witch',\n",
              " 'looking secret ingredient robitussin believe found got addition root beer extract ordered made cherry soda flavor medicinal',\n",
              " 'great taffy great price wide assortment yummy taffy delivery quick taffy lover deal']"
            ]
          },
          "metadata": {},
          "execution_count": 51
        }
      ],
      "source": [
        "cleaned_text[:5]  "
      ]
    },
    {
      "cell_type": "code",
      "execution_count": 52,
      "metadata": {
        "id": "GsRXocxoFxd-"
      },
      "outputs": [],
      "source": [
        "#call the function\n",
        "cleaned_summary = []\n",
        "for t in data['Summary']:\n",
        "    cleaned_summary.append(text_cleaner(t,1))"
      ]
    },
    {
      "cell_type": "code",
      "execution_count": 53,
      "metadata": {
        "colab": {
          "base_uri": "https://localhost:8080/",
          "height": 0
        },
        "id": "jQJdZcAzFxee",
        "outputId": "7cf95640-5d26-46b2-8ac3-dc4688d8ab88"
      },
      "outputs": [
        {
          "output_type": "execute_result",
          "data": {
            "text/plain": [
              "['good quality dog food',\n",
              " 'not as advertised',\n",
              " 'delight says it all',\n",
              " 'cough medicine',\n",
              " 'great taffy']"
            ]
          },
          "metadata": {},
          "execution_count": 53
        }
      ],
      "source": [
        "cleaned_summary[:5]"
      ]
    },
    {
      "cell_type": "code",
      "execution_count": 54,
      "metadata": {
        "id": "L1zLpnqsFxey"
      },
      "outputs": [],
      "source": [
        "data['cleaned_text']=cleaned_text\n",
        "data['cleaned_summary']=cleaned_summary"
      ]
    },
    {
      "cell_type": "code",
      "execution_count": 55,
      "metadata": {
        "id": "sYK390unFxfA"
      },
      "outputs": [],
      "source": [
        "data.replace('', np.nan, inplace=True)\n",
        "data.dropna(axis=0,inplace=True)"
      ]
    },
    {
      "cell_type": "code",
      "execution_count": 56,
      "metadata": {
        "colab": {
          "base_uri": "https://localhost:8080/",
          "height": 281
        },
        "id": "MdF76AHHFxgw",
        "outputId": "2c419b15-fb7a-424f-fc3a-05547f875f98"
      },
      "outputs": [
        {
          "output_type": "display_data",
          "data": {
            "text/plain": [
              "<Figure size 432x288 with 2 Axes>"
            ],
            "image/png": "[encoded data removed]"
          },
          "metadata": {
            "needs_background": "light"
          }
        }
      ],
      "source": [
        "import matplotlib.pyplot as plt\n",
        "\n",
        "text_word_count = []\n",
        "summary_word_count = []\n",
        "\n",
        "# populate the lists with sentence lengths\n",
        "for i in data['cleaned_text']:\n",
        "      text_word_count.append(len(i.split()))\n",
        "\n",
        "for i in data['cleaned_summary']:\n",
        "      summary_word_count.append(len(i.split()))\n",
        "\n",
        "length_df = pd.DataFrame({'text':text_word_count, 'summary':summary_word_count})\n",
        "\n",
        "length_df.hist(bins = 30)\n",
        "plt.show()"
      ]
    },
    {
      "cell_type": "code",
      "execution_count": 57,
      "metadata": {
        "colab": {
          "base_uri": "https://localhost:8080/",
          "height": 0
        },
        "id": "7JRjwdIOFxg3",
        "outputId": "61d2d6f1-0ecb-4399-e43a-9f2bfb077eb4"
      },
      "outputs": [
        {
          "output_type": "stream",
          "name": "stdout",
          "text": [
            "0.9424907471335922\n"
          ]
        }
      ],
      "source": [
        "cnt=0\n",
        "for i in data['cleaned_summary']:\n",
        "    if(len(i.split())<=8):\n",
        "        cnt=cnt+1\n",
        "print(cnt/len(data['cleaned_summary']))"
      ]
    },
    {
      "cell_type": "code",
      "execution_count": 58,
      "metadata": {
        "id": "ZKD5VOWqFxhC"
      },
      "outputs": [],
      "source": [
        "max_text_len=30\n",
        "max_summary_len=8"
      ]
    },
    {
      "cell_type": "code",
      "execution_count": 59,
      "metadata": {
        "id": "yY0tEJP0FxhI"
      },
      "outputs": [],
      "source": [
        "cleaned_text =np.array(data['cleaned_text'])\n",
        "cleaned_summary=np.array(data['cleaned_summary'])\n",
        "\n",
        "short_text=[]\n",
        "short_summary=[]\n",
        "\n",
        "for i in range(len(cleaned_text)):\n",
        "    if(len(cleaned_summary[i].split())<=max_summary_len and len(cleaned_text[i].split())<=max_text_len):\n",
        "        short_text.append(cleaned_text[i])\n",
        "        short_summary.append(cleaned_summary[i])\n",
        "        \n",
        "df=pd.DataFrame({'text':short_text,'summary':short_summary})"
      ]
    },
    {
      "cell_type": "code",
      "execution_count": 60,
      "metadata": {
        "id": "EwLUH78CFxhg"
      },
      "outputs": [],
      "source": [
        "df['summary'] = df['summary'].apply(lambda x : 'sostok '+ x + ' eostok')"
      ]
    },
    {
      "cell_type": "code",
      "execution_count": 61,
      "metadata": {
        "id": "RakakKHcFxhl"
      },
      "outputs": [],
      "source": [
        "from sklearn.model_selection import train_test_split\n",
        "x_tr,x_val,y_tr,y_val=train_test_split(np.array(df['text']),np.array(df['summary']),test_size=0.1,random_state=0,shuffle=True) "
      ]
    },
    {
      "cell_type": "code",
      "execution_count": 62,
      "metadata": {
        "id": "oRHTgX6hFxhq"
      },
      "outputs": [],
      "source": [
        "from keras.preprocessing.text import Tokenizer \n",
        "from keras.preprocessing.sequence import pad_sequences\n",
        "\n",
        "#prepare a tokenizer for reviews on training data\n",
        "x_tokenizer = Tokenizer() \n",
        "x_tokenizer.fit_on_texts(list(x_tr))"
      ]
    },
    {
      "cell_type": "code",
      "execution_count": 63,
      "metadata": {
        "colab": {
          "base_uri": "https://localhost:8080/",
          "height": 0
        },
        "id": "y8KronV2Fxhx",
        "outputId": "76399dbe-d8e5-4b20-959a-a350019573fd"
      },
      "outputs": [
        {
          "output_type": "stream",
          "name": "stdout",
          "text": [
            "% of rare words in vocabulary: 66.12339930151339\n",
            "Total Coverage of rare words: 2.953684513790566\n"
          ]
        }
      ],
      "source": [
        "thresh=4\n",
        "\n",
        "cnt=0\n",
        "tot_cnt=0\n",
        "freq=0\n",
        "tot_freq=0\n",
        "\n",
        "for key,value in x_tokenizer.word_counts.items():\n",
        "    tot_cnt=tot_cnt+1\n",
        "    tot_freq=tot_freq+value\n",
        "    if(value<thresh):\n",
        "        cnt=cnt+1\n",
        "        freq=freq+value\n",
        "    \n",
        "print(\"% of rare words in vocabulary:\",(cnt/tot_cnt)*100)\n",
        "print(\"Total Coverage of rare words:\",(freq/tot_freq)*100)"
      ]
    },
    {
      "cell_type": "code",
      "execution_count": 64,
      "metadata": {
        "id": "J2giEsF3Fxh3"
      },
      "outputs": [],
      "source": [
        "#prepare a tokenizer for reviews on training data\n",
        "x_tokenizer = Tokenizer(num_words=tot_cnt-cnt) \n",
        "x_tokenizer.fit_on_texts(list(x_tr))\n",
        "\n",
        "#convert text sequences into integer sequences\n",
        "x_tr_seq    =   x_tokenizer.texts_to_sequences(x_tr) \n",
        "x_val_seq   =   x_tokenizer.texts_to_sequences(x_val)\n",
        "\n",
        "#padding zero upto maximum length\n",
        "x_tr    =   pad_sequences(x_tr_seq,  maxlen=max_text_len, padding='post')\n",
        "x_val   =   pad_sequences(x_val_seq, maxlen=max_text_len, padding='post')\n",
        "\n",
        "#size of vocabulary ( +1 for padding token)\n",
        "x_voc   =  x_tokenizer.num_words + 1"
      ]
    },
    {
      "cell_type": "code",
      "execution_count": 65,
      "metadata": {
        "colab": {
          "base_uri": "https://localhost:8080/",
          "height": 0
        },
        "id": "DCbGMsm4FxiA",
        "outputId": "4f3fc86d-9ef0-46d3-ffa3-a52353d3171d"
      },
      "outputs": [
        {
          "output_type": "execute_result",
          "data": {
            "text/plain": [
              "8440"
            ]
          },
          "metadata": {},
          "execution_count": 65
        }
      ],
      "source": [
        "x_voc"
      ]
    },
    {
      "cell_type": "code",
      "execution_count": 66,
      "metadata": {
        "id": "eRHqyBkBFxiJ"
      },
      "outputs": [],
      "source": [
        "#prepare a tokenizer for reviews on training data\n",
        "y_tokenizer = Tokenizer()   \n",
        "y_tokenizer.fit_on_texts(list(y_tr))"
      ]
    },
    {
      "cell_type": "code",
      "execution_count": 67,
      "metadata": {
        "colab": {
          "base_uri": "https://localhost:8080/",
          "height": 0
        },
        "id": "yzE5OiRLFxiM",
        "outputId": "86762ce6-a2d8-47c5-f102-791388e753fc"
      },
      "outputs": [
        {
          "output_type": "stream",
          "name": "stdout",
          "text": [
            "% of rare words in vocabulary: 78.12740675541863\n",
            "Total Coverage of rare words: 5.3921899389571895\n"
          ]
        }
      ],
      "source": [
        "thresh=6\n",
        "\n",
        "cnt=0\n",
        "tot_cnt=0\n",
        "freq=0\n",
        "tot_freq=0\n",
        "\n",
        "for key,value in y_tokenizer.word_counts.items():\n",
        "    tot_cnt=tot_cnt+1\n",
        "    tot_freq=tot_freq+value\n",
        "    if(value<thresh):\n",
        "        cnt=cnt+1\n",
        "        freq=freq+value\n",
        "    \n",
        "print(\"% of rare words in vocabulary:\",(cnt/tot_cnt)*100)\n",
        "print(\"Total Coverage of rare words:\",(freq/tot_freq)*100)"
      ]
    },
    {
      "cell_type": "code",
      "execution_count": 68,
      "metadata": {
        "id": "-fswLvIgFxiR"
      },
      "outputs": [],
      "source": [
        "#prepare a tokenizer for reviews on training data\n",
        "y_tokenizer = Tokenizer(num_words=tot_cnt-cnt) \n",
        "y_tokenizer.fit_on_texts(list(y_tr))\n",
        "\n",
        "#convert text sequences into integer sequences\n",
        "y_tr_seq    =   y_tokenizer.texts_to_sequences(y_tr) \n",
        "y_val_seq   =   y_tokenizer.texts_to_sequences(y_val) \n",
        "\n",
        "#padding zero upto maximum length\n",
        "y_tr    =   pad_sequences(y_tr_seq, maxlen=max_summary_len, padding='post')\n",
        "y_val   =   pad_sequences(y_val_seq, maxlen=max_summary_len, padding='post')\n",
        "\n",
        "#size of vocabulary\n",
        "y_voc  =   y_tokenizer.num_words +1"
      ]
    },
    {
      "cell_type": "code",
      "execution_count": 69,
      "metadata": {
        "colab": {
          "base_uri": "https://localhost:8080/",
          "height": 0
        },
        "id": "pR8IX9FRFxiY",
        "outputId": "7f835971-5fea-4425-b810-8b1c220060e6"
      },
      "outputs": [
        {
          "output_type": "execute_result",
          "data": {
            "text/plain": [
              "(42453, 42453)"
            ]
          },
          "metadata": {},
          "execution_count": 69
        }
      ],
      "source": [
        "y_tokenizer.word_counts['sostok'],len(y_tr)   "
      ]
    },
    {
      "cell_type": "code",
      "execution_count": 70,
      "metadata": {
        "id": "kZ-vW82sFxih"
      },
      "outputs": [],
      "source": [
        "ind=[]\n",
        "for i in range(len(y_tr)):\n",
        "    cnt=0\n",
        "    for j in y_tr[i]:\n",
        "        if j!=0:\n",
        "            cnt=cnt+1\n",
        "    if(cnt==2):\n",
        "        ind.append(i)\n",
        "\n",
        "y_tr=np.delete(y_tr,ind, axis=0)\n",
        "x_tr=np.delete(x_tr,ind, axis=0)"
      ]
    },
    {
      "cell_type": "code",
      "execution_count": 71,
      "metadata": {
        "id": "cx5NISuMFxik"
      },
      "outputs": [],
      "source": [
        "ind=[]\n",
        "for i in range(len(y_val)):\n",
        "    cnt=0\n",
        "    for j in y_val[i]:\n",
        "        if j!=0:\n",
        "            cnt=cnt+1\n",
        "    if(cnt==2):\n",
        "        ind.append(i)\n",
        "\n",
        "y_val=np.delete(y_val,ind, axis=0)\n",
        "x_val=np.delete(x_val,ind, axis=0)"
      ]
    },
    {
      "cell_type": "code",
      "execution_count": 72,
      "metadata": {
        "id": "mW66QQ8y_MIl"
      },
      "outputs": [],
      "source": [
        "from tensorflow.keras.preprocessing.text import Tokenizer\n",
        "from tensorflow.keras.preprocessing.sequence import pad_sequences\n",
        "from tensorflow.keras.layers import Input, LSTM, Embedding, Dense, \\\n",
        "    Concatenate, TimeDistributed\n",
        "from tensorflow.keras.models import Model\n",
        "from tensorflow.keras.callbacks import EarlyStopping"
      ]
    },
    {
      "cell_type": "code",
      "execution_count": 73,
      "metadata": {
        "colab": {
          "base_uri": "https://localhost:8080/",
          "height": 0
        },
        "id": "Sd3swAJ0_PB0",
        "outputId": "8e16e9c4-2257-40e8-b95b-3bdd842ef32e"
      },
      "outputs": [
        {
          "output_type": "stream",
          "name": "stdout",
          "text": [
            "Model: \"model_3\"\n",
            "__________________________________________________________________________________________________\n",
            " Layer (type)                   Output Shape         Param #     Connected to                     \n",
            "==================================================================================================\n",
            " input_6 (InputLayer)           [(None, 30)]         0           []                               \n",
            "                                                                                                  \n",
            " embedding_2 (Embedding)        (None, 30, 200)      1688000     ['input_6[0][0]']                \n",
            "                                                                                                  \n",
            " lstm_4 (LSTM)                  [(None, 30, 300),    601200      ['embedding_2[0][0]']            \n",
            "                                 (None, 300),                                                     \n",
            "                                 (None, 300)]                                                     \n",
            "                                                                                                  \n",
            " input_7 (InputLayer)           [(None, None)]       0           []                               \n",
            "                                                                                                  \n",
            " lstm_5 (LSTM)                  [(None, 30, 300),    721200      ['lstm_4[0][0]']                 \n",
            "                                 (None, 300),                                                     \n",
            "                                 (None, 300)]                                                     \n",
            "                                                                                                  \n",
            " embedding_3 (Embedding)        (None, None, 200)    397800      ['input_7[0][0]']                \n",
            "                                                                                                  \n",
            " lstm_6 (LSTM)                  [(None, 30, 300),    721200      ['lstm_5[0][0]']                 \n",
            "                                 (None, 300),                                                     \n",
            "                                 (None, 300)]                                                     \n",
            "                                                                                                  \n",
            " lstm_7 (LSTM)                  [(None, None, 300),  601200      ['embedding_3[0][0]',            \n",
            "                                 (None, 300),                     'lstm_6[0][1]',                 \n",
            "                                 (None, 300)]                     'lstm_6[0][2]']                 \n",
            "                                                                                                  \n",
            " time_distributed_1 (TimeDistri  (None, None, 1989)  598689      ['lstm_7[0][0]']                 \n",
            " buted)                                                                                           \n",
            "                                                                                                  \n",
            "==================================================================================================\n",
            "Total params: 5,329,289\n",
            "Trainable params: 5,329,289\n",
            "Non-trainable params: 0\n",
            "__________________________________________________________________________________________________\n"
          ]
        }
      ],
      "source": [
        "latent_dim = 300\n",
        "embedding_dim = 200\n",
        "\n",
        "# Encoder\n",
        "encoder_inputs = Input(shape=(max_text_len, ))\n",
        "\n",
        "# Embedding layer\n",
        "enc_emb = Embedding(x_voc, embedding_dim,\n",
        "                    trainable=True)(encoder_inputs)\n",
        "\n",
        "# Encoder LSTM 1\n",
        "encoder_lstm1 = LSTM(latent_dim, return_sequences=True,\n",
        "                     return_state=True, dropout=0.4,\n",
        "                     recurrent_dropout=0.4)\n",
        "(encoder_output1, state_h1, state_c1) = encoder_lstm1(enc_emb)\n",
        "\n",
        "# Encoder LSTM 2\n",
        "encoder_lstm2 = LSTM(latent_dim, return_sequences=True,\n",
        "                     return_state=True, dropout=0.4,\n",
        "                     recurrent_dropout=0.4)\n",
        "(encoder_output2, state_h2, state_c2) = encoder_lstm2(encoder_output1)\n",
        "\n",
        "# Encoder LSTM 3\n",
        "encoder_lstm3 = LSTM(latent_dim, return_state=True,\n",
        "                     return_sequences=True, dropout=0.4,\n",
        "                     recurrent_dropout=0.4)\n",
        "(encoder_outputs, state_h, state_c) = encoder_lstm3(encoder_output2)\n",
        "\n",
        "# Set up the decoder, using encoder_states as the initial state\n",
        "decoder_inputs = Input(shape=(None, ))\n",
        "\n",
        "# Embedding layer\n",
        "dec_emb_layer = Embedding(y_voc, embedding_dim, trainable=True)\n",
        "dec_emb = dec_emb_layer(decoder_inputs)\n",
        "\n",
        "# Decoder LSTM\n",
        "decoder_lstm = LSTM(latent_dim, return_sequences=True,\n",
        "                    return_state=True, dropout=0.4,\n",
        "                    recurrent_dropout=0.2)\n",
        "(decoder_outputs, decoder_fwd_state, decoder_back_state) = \\\n",
        "    decoder_lstm(dec_emb, initial_state=[state_h, state_c])\n",
        "\n",
        "# Dense layer\n",
        "decoder_dense = TimeDistributed(Dense(y_voc, activation='softmax'))\n",
        "decoder_outputs = decoder_dense(decoder_outputs)\n",
        "\n",
        "# Define the model\n",
        "model = Model([encoder_inputs, decoder_inputs], decoder_outputs)\n",
        "\n",
        "model.summary()"
      ]
    },
    {
      "cell_type": "code",
      "execution_count": 74,
      "metadata": {
        "id": "CVxl_wN7_Zdn"
      },
      "outputs": [],
      "source": [
        "model.compile(optimizer='rmsprop', loss='sparse_categorical_crossentropy')\n",
        "\n",
        "es = EarlyStopping(monitor='val_loss', mode='min', verbose=1, patience=2)"
      ]
    },
    {
      "cell_type": "code",
      "execution_count": 75,
      "metadata": {
        "colab": {
          "base_uri": "https://localhost:8080/",
          "height": 0
        },
        "id": "8vhKUkoT_djh",
        "outputId": "cbc7f70d-b6c5-4ab4-fca9-e88a8b49a9b9"
      },
      "outputs": [
        {
          "output_type": "stream",
          "name": "stdout",
          "text": [
            "Epoch 1/50\n",
            "324/324 [==============================] - 801s 2s/step - loss: 2.7998 - val_loss: 2.5566\n",
            "Epoch 2/50\n",
            "324/324 [==============================] - 787s 2s/step - loss: 2.4869 - val_loss: 2.4081\n",
            "Epoch 3/50\n",
            "324/324 [==============================] - 792s 2s/step - loss: 2.3524 - val_loss: 2.3228\n",
            "Epoch 4/50\n",
            "324/324 [==============================] - 799s 2s/step - loss: 2.2596 - val_loss: 2.2482\n",
            "Epoch 5/50\n",
            "324/324 [==============================] - 798s 2s/step - loss: 2.1836 - val_loss: 2.1908\n",
            "Epoch 6/50\n",
            "324/324 [==============================] - 794s 2s/step - loss: 2.1222 - val_loss: 2.1503\n",
            "Epoch 7/50\n",
            "324/324 [==============================] - 791s 2s/step - loss: 2.0716 - val_loss: 2.1239\n",
            "Epoch 8/50\n",
            "324/324 [==============================] - 790s 2s/step - loss: 2.0263 - val_loss: 2.0908\n",
            "Epoch 9/50\n",
            "324/324 [==============================] - 793s 2s/step - loss: 1.9882 - val_loss: 2.0740\n",
            "Epoch 10/50\n",
            "324/324 [==============================] - 793s 2s/step - loss: 1.9521 - val_loss: 2.0658\n",
            "Epoch 11/50\n",
            "324/324 [==============================] - 792s 2s/step - loss: 1.9196 - val_loss: 2.0678\n",
            "Epoch 12/50\n",
            "324/324 [==============================] - 793s 2s/step - loss: 1.8880 - val_loss: 2.0430\n",
            "Epoch 13/50\n",
            "324/324 [==============================] - 795s 2s/step - loss: 1.8579 - val_loss: 2.0503\n",
            "Epoch 14/50\n",
            "324/324 [==============================] - 788s 2s/step - loss: 1.8293 - val_loss: 2.0336\n",
            "Epoch 15/50\n",
            "324/324 [==============================] - 791s 2s/step - loss: 1.8018 - val_loss: 2.0387\n",
            "Epoch 16/50\n",
            "324/324 [==============================] - 787s 2s/step - loss: 1.7766 - val_loss: 2.0418\n",
            "Epoch 16: early stopping\n"
          ]
        }
      ],
      "source": [
        "history = model.fit(\n",
        "    [x_tr, y_tr[:, :-1]],\n",
        "    y_tr.reshape(y_tr.shape[0], y_tr.shape[1], 1)[:, 1:],\n",
        "    epochs=50,\n",
        "    callbacks=[es],\n",
        "    batch_size=128,\n",
        "    validation_data=([x_val, y_val[:, :-1]],\n",
        "                     y_val.reshape(y_val.shape[0], y_val.shape[1], 1)[:\n",
        "                     , 1:]),\n",
        "    )"
      ]
    },
    {
      "cell_type": "code",
      "execution_count": 76,
      "metadata": {
        "colab": {
          "base_uri": "https://localhost:8080/",
          "height": 265
        },
        "id": "ym76zXDT-WJS",
        "outputId": "01fc52b8-9936-4e9c-fff5-5d9988ee3bab"
      },
      "outputs": [
        {
          "output_type": "display_data",
          "data": {
            "text/plain": [
              "<Figure size 432x288 with 1 Axes>"
            ],
            "image/png": "[encoded data removed]"
          },
          "metadata": {
            "needs_background": "light"
          }
        }
      ],
      "source": [
        "from matplotlib import pyplot\n",
        "\n",
        "pyplot.plot(history.history['loss'], label='train')\n",
        "pyplot.plot(history.history['val_loss'], label='test')\n",
        "pyplot.legend()\n",
        "pyplot.show()"
      ]
    },
    {
      "cell_type": "code",
      "execution_count": 77,
      "metadata": {
        "id": "sBX0zZnOFxjW"
      },
      "outputs": [],
      "source": [
        "reverse_target_word_index=y_tokenizer.index_word\n",
        "reverse_source_word_index=x_tokenizer.index_word\n",
        "target_word_index=y_tokenizer.word_index"
      ]
    },
    {
      "cell_type": "code",
      "execution_count": 78,
      "metadata": {
        "id": "9QkrNV-4Fxjt"
      },
      "outputs": [],
      "source": [
        "# Encode the input sequence to get the feature vector\n",
        "encoder_model = Model(inputs=encoder_inputs, outputs=[encoder_outputs,\n",
        "                      state_h, state_c])\n",
        "\n",
        "# Decoder setup\n",
        "\n",
        "# Below tensors will hold the states of the previous time step\n",
        "decoder_state_input_h = Input(shape=(latent_dim, ))\n",
        "decoder_state_input_c = Input(shape=(latent_dim, ))\n",
        "decoder_hidden_state_input = Input(shape=(max_text_len, latent_dim))\n",
        "\n",
        "# Get the embeddings of the decoder sequence\n",
        "dec_emb2 = dec_emb_layer(decoder_inputs)\n",
        "\n",
        "# To predict the next word in the sequence, set the initial states to the states from the previous time step\n",
        "(decoder_outputs2, state_h2, state_c2) = decoder_lstm(dec_emb2,\n",
        "        initial_state=[decoder_state_input_h, decoder_state_input_c])\n",
        "\n",
        "# A dense softmax layer to generate prob dist. over the target vocabulary\n",
        "decoder_outputs2 = decoder_dense(decoder_outputs2)\n",
        "\n",
        "# Final decoder model\n",
        "decoder_model = Model([decoder_inputs] + [decoder_hidden_state_input,\n",
        "                      decoder_state_input_h, decoder_state_input_c],\n",
        "                      [decoder_outputs2] + [state_h2, state_c2])"
      ]
    },
    {
      "cell_type": "code",
      "execution_count": 79,
      "metadata": {
        "id": "6f6TTFnBFxj6"
      },
      "outputs": [],
      "source": [
        "def decode_sequence(input_seq):\n",
        "\n",
        "    # Encode the input as state vectors.\n",
        "    (e_out, e_h, e_c) = encoder_model.predict(input_seq)\n",
        "\n",
        "    # Generate empty target sequence of length 1\n",
        "    target_seq = np.zeros((1, 1))\n",
        "\n",
        "    # Populate the first word of target sequence with the start word.\n",
        "    target_seq[0, 0] = target_word_index['sostok']\n",
        "\n",
        "    stop_condition = False\n",
        "    decoded_sentence = ''\n",
        "\n",
        "    while not stop_condition:\n",
        "        (output_tokens, h, c) = decoder_model.predict([target_seq]\n",
        "                + [e_out, e_h, e_c])\n",
        "\n",
        "        # Sample a token\n",
        "        sampled_token_index = np.argmax(output_tokens[0, -1, :])\n",
        "        sampled_token = reverse_target_word_index[sampled_token_index]\n",
        "\n",
        "        if sampled_token != 'eostok':\n",
        "            decoded_sentence += ' ' + sampled_token\n",
        "\n",
        "        # Exit condition: either hit max length or find the stop word.\n",
        "        if sampled_token == 'eostok' or len(decoded_sentence.split()) \\\n",
        "            >= max_summary_len - 1:\n",
        "            stop_condition = True\n",
        "\n",
        "        # Update the target sequence (of length 1)\n",
        "        target_seq = np.zeros((1, 1))\n",
        "        target_seq[0, 0] = sampled_token_index\n",
        "\n",
        "        # Update internal states\n",
        "        (e_h, e_c) = (h, c)\n",
        "\n",
        "    return decoded_sentence"
      ]
    },
    {
      "cell_type": "code",
      "execution_count": 80,
      "metadata": {
        "id": "aAUntznIFxj9"
      },
      "outputs": [],
      "source": [
        "# To convert sequence to summary\n",
        "def seq2summary(input_seq):\n",
        "    newString = ''\n",
        "    for i in input_seq:\n",
        "        if i != 0 and i != target_word_index['sostok'] and i \\\n",
        "            != target_word_index['eostok']:\n",
        "            newString = newString + reverse_target_word_index[i] + ' '\n",
        "\n",
        "    return newString\n",
        "\n",
        "\n",
        "# To convert sequence to text\n",
        "def seq2text(input_seq):\n",
        "    newString = ''\n",
        "    for i in input_seq:\n",
        "        if i != 0:\n",
        "            newString = newString + reverse_source_word_index[i] + ' '\n",
        "\n",
        "    return newString"
      ]
    },
    {
      "cell_type": "code",
      "execution_count": 81,
      "metadata": {
        "colab": {
          "base_uri": "https://localhost:8080/",
          "height": 0
        },
        "id": "BUtQmQTmFxkI",
        "outputId": "8b7c055c-e7af-4224-9584-663f988e466d"
      },
      "outputs": [
        {
          "output_type": "stream",
          "name": "stdout",
          "text": [
            "Review: gave caffeine shakes heart anxiety attack plus tastes unbelievably bad stick coffee tea soda thanks \n",
            "Original summary: hour \n",
            "Predicted summary:  not bad\n",
            "\n",
            "\n",
            "Review: got great course good belgian chocolates better \n",
            "Original summary: would like to give it stars but \n",
            "Predicted summary:  great\n",
            "\n",
            "\n",
            "Review: one best flavored coffees tried usually like flavored coffees one great serve company love \n",
            "Original summary: delicious \n",
            "Predicted summary:  great coffee\n",
            "\n",
            "\n",
            "Review: salt separate area pain makes hard regulate salt putting like salt go ahead get product \n",
            "Original summary: tastes ok packaging \n",
            "Predicted summary:  salt\n",
            "\n",
            "\n",
            "Review: really like product super easy order online delivered much cheaper buying gas station stocking good long drives \n",
            "Original summary: turkey jerky is great \n",
            "Predicted summary:  great\n",
            "\n",
            "\n",
            "Review: best salad dressing delivered promptly quantities last vidalia onion dressing compares made oak hill farms sometimes find costco order front door want even orders cut shipping costs \n",
            "Original summary: my favorite salad dressing \n",
            "Predicted summary:  best ever\n",
            "\n",
            "\n",
            "Review: think sitting around warehouse long time took long time send got tea tasted like cardboard red rasberry leaf tea know supposed taste like \n",
            "Original summary: stale \n",
            "Predicted summary:  not the best\n",
            "\n",
            "\n",
            "Review: year old cat special diet digestive problems also diabetes stopped eating usual special formula food tried different kinds catfood one liked easy digestion diabetes thank newman \n",
            "Original summary: wonderful \n",
            "Predicted summary:  my cats love this\n",
            "\n",
            "\n",
            "Review: always perfect snack dog loves knows exactly starts ask time evening gets greenie snack thank excellent product fast delivery \n",
            "Original summary: greenies buddy treat \n",
            "Predicted summary:  greenies\n",
            "\n",
            "\n",
            "Review: dog loves tiny treats keep one car one house \n",
            "Original summary: dog loves them \n",
            "Predicted summary:  dog loves them\n",
            "\n",
            "\n",
            "Review: liked coffee much subscribing dark rich smooth \n",
            "Original summary: makes great cup of java \n",
            "Predicted summary:  great coffee\n",
            "\n",
            "\n",
            "Review: far dog tried chicken peanut butter flavor absolutely loves love natural makes happy giving dog something healthy treats small soft big plus calories \n",
            "Original summary: love zuke mini naturals \n",
            "Predicted summary:  my dog loves these\n",
            "\n",
            "\n",
            "Review: absolutely delicious satisfy something sweet really filling great early morning time make breakfast great afternoon snack work feeling sluggish \n",
            "Original summary: protein bar \n",
            "Predicted summary:  yummy\n",
            "\n",
            "\n",
            "Review: aware decaf coffee although showed search decaf cups intended purchase gift kept recipient drink caffeine favorite means \n",
            "Original summary: not decaf \n",
            "Predicted summary:  not too strong\n",
            "\n",
            "\n",
            "Review: wonderful wrote perfect iced cookie one pen writing cookies names happy ca \n",
            "Original summary: cookie \n",
            "Predicted summary:  delicious\n",
            "\n",
            "\n",
            "Review: truffle oil quite good prefer brand france urbani italy expensive oh delicious tried black white good black bit stronger pungent event healthy alternative butter enjoy \n",
            "Original summary: delicious but not the best \n",
            "Predicted summary:  great taste\n",
            "\n",
            "\n",
            "Review: enjoy coffee office split right middle loving think worth try order regularly \n",
            "Original summary: hit or miss \n",
            "Predicted summary:  great coffee\n",
            "\n",
            "\n",
            "Review: husband gluten free food several years tried several different bread mixes first actually enjoys buying amazon saves loaf \n",
            "Original summary: really good gluten free bread \n",
            "Predicted summary:  gluten free bread\n",
            "\n",
            "\n",
            "Review: hubby eats says good snacks morning done apple flavor \n",
            "Original summary: really good nice snack \n",
            "Predicted summary:  yummy\n",
            "\n",
            "\n",
            "Review: waste money disgusting product chocolate taste tastes like plastic lining paper carton using milk treated ultra high temperatures like fresh milk go get fresh milk hershey syrup want chocolate milk \n",
            "Original summary: please do not waste your money \n",
            "Predicted summary:  not bad\n",
            "\n",
            "\n",
            "Review: absolutely loves apple chicken happy hips looks forward one morning one night gets soooo excited would eat allowed \n",
            "Original summary: healthy treats \n",
            "Predicted summary:  my dog loves these\n",
            "\n",
            "\n",
            "Review: strong much flavor little aroma tried purchase another time similiar brands met standards expected \n",
            "Original summary: no flavor \n",
            "Predicted summary:  not as good as hoped\n",
            "\n",
            "\n",
            "Review: company wanted chose order anyway \n",
            "Original summary: water \n",
            "Predicted summary:  not\n",
            "\n",
            "\n",
            "Review: introduced number people hooked best sour gummy ever great flavors got great price \n",
            "Original summary: new favorite \n",
            "Predicted summary:  best ever\n",
            "\n",
            "\n",
            "Review: new price attractive however tastes horrible maybe old zico coconut water brands might find acceptable \n",
            "Original summary: do not be by the price \n",
            "Predicted summary:  not bad\n",
            "\n",
            "\n",
            "Review: sure ever going buy product way expensive market price \n",
            "Original summary: too expensive \n",
            "Predicted summary:  price\n",
            "\n",
            "\n",
            "Review: flavor normally find local stores plus buy bulk things take savings add veggies even stir egg noodles cook add nutrition quick meals lot extra \n",
            "Original summary: good value \n",
            "Predicted summary:  great taste\n",
            "\n",
            "\n",
            "Review: order tea labeled decaff must caffeine residue levels tested tea caffeine decaff non decaff tea anywhere caffeine caffeine caffeinated tea caffeine slightly less naturally present tea leaf \n",
            "Original summary: caffeine is not \n",
            "Predicted summary:  not what expected\n",
            "\n",
            "\n",
            "Review: excellent babies toddler really best offer little one delicious rich vitamins calcium protein low fat sorry products available website \n",
            "Original summary: excellent product for babies and toddler \n",
            "Predicted summary:  great product\n",
            "\n",
            "\n",
            "Review: purchased item dented would bet run dented product clearing ship ones \n",
            "Original summary: sometimes dented \n",
            "Predicted summary:  dented cans\n",
            "\n",
            "\n",
            "Review: almost tastes like mini blueberry pie love one favorite thoroughly fallen love \n",
            "Original summary: excellent love the blueberry pecan \n",
            "Predicted summary:  love these\n",
            "\n",
            "\n",
            "Review: dog loves keeps busy minutes long time chew hound \n",
            "Original summary: chew away \n",
            "Predicted summary:  dog loves them\n",
            "\n",
            "\n",
            "Review: plant came quickly looks great office nice pot plant thriving well \n",
            "Original summary: very nice office plant \n",
            "Predicted summary:  very nice\n",
            "\n",
            "\n",
            "Review: dog loves lickety stik bacon flavor since likes much plan getting flavors great liquid treat dog highly recommend lickety stik \n",
            "Original summary: great dog treat \n",
            "Predicted summary:  dog treats\n",
            "\n",
            "\n",
            "Review: great toy dogs chew everything else little literally eats toys one toys yet destroy loves carries around everywhere got rex cutest thing \n",
            "Original summary: good for chewers \n",
            "Predicted summary:  great dog food\n",
            "\n",
            "\n",
            "Review: really search good deals tea tea great price tea amazon almost cup price cup coffee herbal varieties low caffine good option wife used dinner coffe \n",
            "Original summary: great price for great tea \n",
            "Predicted summary:  great tea\n",
            "\n",
            "\n",
            "Review: pricey essentially small bag hard crumbs maybe dog spoiled treats like third class treats definitely bottom doggie treat often simply walk away glad people like buying \n",
            "Original summary: waste of money \n",
            "Predicted summary:  dog treats\n",
            "\n",
            "\n",
            "Review: little pricey consider sugar low cal caffine really rich flavor best chai ever found \n",
            "Original summary: fabulous product \n",
            "Predicted summary:  delicious\n",
            "\n",
            "\n",
            "Review: loves taste beef freeze dried dog treats use training really works \n",
            "Original summary: dog lover \n",
            "Predicted summary:  dog loves them\n",
            "\n",
            "\n",
            "Review: three dogs cairn terriers year old border collie proud greenies like taste helps keep gums teeth good shape \n",
            "Original summary: our dogs love greenies \n",
            "Predicted summary:  greenies\n",
            "\n",
            "\n",
            "Review: good soft drink smooth strawberry cream soda tasty \n",
            "Original summary: good stuff \n",
            "Predicted summary:  good\n",
            "\n",
            "\n",
            "Review: item arrived sugar free shipped regular version caramel syrup small internal sticker bottle stated sugar free although company label bottle stated regular version \n",
            "Original summary: wrong item \n",
            "Predicted summary:  not what expected\n",
            "\n",
            "\n",
            "Review: like strong coffee coffee rated found weak sickening taste \n",
            "Original summary: disapointed \n",
            "Predicted summary:  not as good as expected\n",
            "\n",
            "\n",
            "Review: saw peanut butter chocolate cereal knew try pleased eat chocolate breakfast feel guilty two kids love cereal well great eat alone favorite milk product yogurt mix homemade granola well \n",
            "Original summary: the yummy \n",
            "Predicted summary:  great snack\n",
            "\n",
            "\n",
            "Review: begging time loves used buy small bottle buying every weeks since saw oz buying last lot longer gas money cheaper buy online \n",
            "Original summary: my dog loves it \n",
            "Predicted summary:  great product\n",
            "\n",
            "\n",
            "Review: true also need decent scale tried caviar recipe everything worked perfectly first try fun easy make kit comes large enough samples looks like good uses \n",
            "Original summary: great to \n",
            "Predicted summary:  great for\n",
            "\n",
            "\n",
            "Review: dog really likes treats like buy run mill treats loaded fat fillers continue buy \n",
            "Original summary: buddy biscuits \n",
            "Predicted summary:  dog loves them\n",
            "\n",
            "\n",
            "Review: tulsi green tea great good iced tea well \n",
            "Original summary: green tea \n",
            "Predicted summary:  great tea\n",
            "\n",
            "\n",
            "Review: always put something market couple poof gone best tasting product pepsi \n",
            "Original summary: best taste \n",
            "Predicted summary:  the best\n",
            "\n",
            "\n",
            "Review: like tomatoes fresh flavorful also come carton welcome alternative metal cans impart flavor sometimes lined plastic containing \n",
            "Original summary: yummy tomatoes good packaging \n",
            "Predicted summary:  great\n",
            "\n",
            "\n",
            "Review: great get habit forming careful bought whole case save overall versus going supermarket rich dark chocolate crisp cookie worth every penny oreo eat heart \n",
            "Original summary: delicious \n",
            "Predicted summary:  delicious\n",
            "\n",
            "\n",
            "Review: else say arrived promptly perhaps time expected expiration date like next day good go \n",
            "Original summary: baby loves it \n",
            "Predicted summary:  not what expected\n",
            "\n",
            "\n",
            "Review: bought local recently advertised cheesy flavor detectable product even salt flavor avoid product \n",
            "Original summary: no cheese flavor \n",
            "Predicted summary:  not that great\n",
            "\n",
            "\n",
            "Review: big volume coffee morning one great \n",
            "Original summary: great morning coffee \n",
            "Predicted summary:  great coffee\n",
            "\n",
            "\n",
            "Review: drank try keep awake fell asleep minutes drinking feel anything \n",
            "Original summary: it made me fall \n",
            "Predicted summary:  not bad\n",
            "\n",
            "\n",
            "Review: drink cups day verona italian french roast coffee wanted try lower acid version brand coffee smells tastes like vinegar totally unpalatable better drinking water acid coffee bothers \n",
            "Original summary: single worst coffee ever \n",
            "Predicted summary:  not great\n",
            "\n",
            "\n",
            "Review: getting price however afraid stocking anymore reduced price think one trying eat crackers low calorie string cheese breakfast every total calories put breakfast baggie go \n",
            "Original summary: am addicted to these \n",
            "Predicted summary:  great for gluten free baking\n",
            "\n",
            "\n",
            "Review: first time using fondarific fondant general one really easy use baby shower cake worked indicated also colored made two tier cake final product looked great greasy \n",
            "Original summary: easy to use \n",
            "Predicted summary:  great for cooking\n",
            "\n",
            "\n",
            "Review: work home drink cups cup coffee day good tasting coffee lowest price cup market \n",
            "Original summary: great coffee great price \n",
            "Predicted summary:  great coffee\n",
            "\n",
            "\n",
            "Review: guys say natural really tastes great pleasantly surprised stand flavor carbonated think would even better product time come fed sweet juices aftertaste make obvious really natural switch really gets vote \n",
            "Original summary: great taste all natural \n",
            "Predicted summary:  not bad\n",
            "\n",
            "\n",
            "Review: product good goes long way quite good one dd good product less \n",
            "Original summary: very good \n",
            "Predicted summary:  good\n",
            "\n",
            "\n",
            "Review: tea wonderful soothing even soothing get shipped house found hard find decaffeinated tea grocery store much easier \n",
            "Original summary: decaffeinated french vanilla tea yummy \n",
            "Predicted summary:  best tea ever\n",
            "\n",
            "\n",
            "Review: wow little calorie espresso sugar serve cold delicious little shot espresso sugar overly sweet sugar helps offset taste espresso caffe bitter sweet tastes good really gave afternoon kick pants \n",
            "Original summary: nice little pick me up \n",
            "Predicted summary:  good stuff\n",
            "\n",
            "\n",
            "Review: mayonnaise delicious side side taste test would give hellman edge hellman richer taste \n",
            "Original summary: excellent but \n",
            "Predicted summary:  great product\n",
            "\n",
            "\n",
            "Review: love medium full flavored roast smooth taste bitter acidic taste excellent coffee good value also try timothy kona good also \n",
            "Original summary: wonderful coffee \n",
            "Predicted summary:  great coffee\n",
            "\n",
            "\n",
            "Review: nice item chunks meat good gravy cat fond varieties nice little treat nonetheless think item bit pricy per ounce \n",
            "Original summary: nice but pricey \n",
            "Predicted summary:  good for\n",
            "\n",
            "\n",
            "Review: bought cookies gifts open last long good make great gifts would definitely buy \n",
            "Original summary: mouth watery cookies \n",
            "Predicted summary:  great cookies\n",
            "\n",
            "\n",
            "Review: great price fast shipping best chips better ingredients less calories snack foods plus taste like real chips \n",
            "Original summary: pop chips are the best \n",
            "Predicted summary:  great chips\n",
            "\n",
            "\n",
            "Review: taco bell chipotle sauce bold flavorful tried chicken wings tacos salad made dish extremely tasty glad sampled new sauce staple condiment \n",
            "Original summary: bold flavor \n",
            "Predicted summary:  good stuff\n",
            "\n",
            "\n",
            "Review: bought seeds make centerpieces really surprised fast grow planted seeds potting soil without ny preparation anything kept watering days super tall ready displayed centerpieces perfect \n",
            "Original summary: perfect for in days \n",
            "Predicted summary:  perfect for\n",
            "\n",
            "\n",
            "Review: every time need sun dried tomatoes local grocery stores conveniently small pouches ensure always hand called recipe \n",
            "Original summary: sun dried tomato bliss \n",
            "Predicted summary:  great\n",
            "\n",
            "\n",
            "Review: love soup eat plain use recipe cannot find area glad amazon \n",
            "Original summary: soup chicken cheese \n",
            "Predicted summary:  soup\n",
            "\n",
            "\n",
            "Review: size quite good dog training smell strong cannot put open bag must seal everytime gave treat otherwise dog stand trying fetch believe taste great puppy purchase sure \n",
            "Original summary: strong smell and my puppy loves it \n",
            "Predicted summary:  my dog loves these\n",
            "\n",
            "\n",
            "Review: love chips auto order every months taste great whole bag calories bag every day sure helped weight loss little bags eat huge amount \n",
            "Original summary: great purchase \n",
            "Predicted summary:  love these chips\n",
            "\n",
            "\n",
            "Review: many kit wines cost three four times made many kits find fine table wine recommend adding water five gallon mark flavor \n",
            "Original summary: good wine \n",
            "Predicted summary:  very nice\n",
            "\n",
            "\n",
            "Review: sooo much pepper heavy salt reminds adams trick food cannot eat seriously fresh nuts seasoned \n",
            "Original summary: over the top seasoning \n",
            "Predicted summary:  the best\n",
            "\n",
            "\n",
            "Review: loved brand best vanilla flavor others tried would buy better price \n",
            "Original summary: wolfgang puck coffee vanilla \n",
            "Predicted summary:  best coffee\n",
            "\n",
            "\n",
            "Review: another brand cinammon carried amazon much better tasting brand maybe packaging part problem simple plastic bag tie amazon brand comes carefully set plastic box \n",
            "Original summary: edible have had much better \n",
            "Predicted summary:  not bad\n",
            "\n",
            "\n",
            "Review: throw pack one actually taste bad especially compared orange tangerine like carbonation adds juice flavors need work switch drinks best worst watermelon strawberry kiwi berry black cherry orange tangerine \n",
            "Original summary: my favorite of the four tried \n",
            "Predicted summary:  not bad\n",
            "\n",
            "\n",
            "Review: daughter drinking since months old months old still loves snack time healthy delicious great addition menu \n",
            "Original summary: great snack \n",
            "Predicted summary:  great snack\n",
            "\n",
            "\n",
            "Review: live guinea africa order products delivered boat every months sometimes disappointed time zero calories zero carbs taste great price zero delivery costs prime ordered different flavors one favorite love \n",
            "Original summary: love it \n",
            "Predicted summary:  love these\n",
            "\n",
            "\n",
            "Review: purchased larger size love size perfect keep purse snack especially times others dessert snack cannot eat must gluten free spouse touch diet food loves \n",
            "Original summary: cannot get enough \n",
            "Predicted summary:  great snack\n",
            "\n",
            "\n",
            "Review: always house drink favorite mix sprite oh good every day mind larger bottles use much bring \n",
            "Original summary: am an adult still love this \n",
            "Predicted summary:  best\n",
            "\n",
            "\n",
            "Review: ginger snaps overpowering ginger go great milk really enjoyed house great buy affordable compared alternative diet foods last least week store well \n",
            "Original summary: you can eat ginger again \n",
            "Predicted summary:  great\n",
            "\n",
            "\n",
            "Review: give squid one star use might thoroughly disappointed quite possibly call crazy \n",
            "Original summary: can for your \n",
            "Predicted summary:  great\n",
            "\n",
            "\n",
            "Review: quality seeds excellent begin germinate hours days ready use never sprouted seeds results good easily recommend sprouter whether human consumption four legged friends \n",
            "Original summary: wheat grass seeds \n",
            "Predicted summary:  great product\n",
            "\n",
            "\n",
            "Review: love stuff great store bought homemade baked goods kicking things professional level works colored dark light frosting also used dusting powdered sugar pretty fine texture \n",
            "Original summary: fun like dust \n",
            "Predicted summary:  great taste\n",
            "\n",
            "\n",
            "Review: bought jumbo greenies black lab loved way expensive regular use notice difference breath primary reason buying \n",
            "Original summary: jumbo greenies good but very expensive \n",
            "Predicted summary:  greenies\n",
            "\n",
            "\n",
            "Review: also bought costco per box included bags oz kids fighting remaining bags good buying due price high price prevent product reaching mass distribution \n",
            "Original summary: very good but too pricey \n",
            "Predicted summary:  good but pricey\n",
            "\n",
            "\n",
            "Review: originally found mints whole foods taste superb get lot money plus comes cute little tin uses dog loves go organic \n",
            "Original summary: wonderful \n",
            "Predicted summary:  great product\n",
            "\n",
            "\n",
            "Review: regular spam awful almost inedible would give tastes like animal know mean fellow spam turkey spam pretty good great would give worth try \n",
            "Original summary: better than regular \n",
            "Predicted summary:  yummy\n",
            "\n",
            "\n",
            "Review: really need know many cans also whitefish tuna buffet canned cat food thanks \n",
            "Original summary: need to know how many in case \n",
            "Predicted summary:  great food\n",
            "\n",
            "\n",
            "Review: great tasting rich flavor perfect making nice hot cup mocha bought test hershey syrup mocha incredible distinct taste difference noticeable much richer tastes like chocolate less sugary hershey syrup \n",
            "Original summary: great taste \n",
            "Predicted summary:  great taste\n",
            "\n",
            "\n",
            "Review: number one japan number one great save get shipped automatically every month lugging car \n",
            "Original summary: great tea \n",
            "Predicted summary:  great product\n",
            "\n",
            "\n",
            "Review: bought item read best mayo sold yes even better worlds favorite hellman well review good bit better hellman fact put empty hellman jar said nothing family never knew difference \n",
            "Original summary: blue mayo \n",
            "Predicted summary:  best candy ever\n",
            "\n",
            "\n",
            "Review: gum great makes car smell good leave refreshing sweet tart smooth \n",
            "Original summary: love the gum and the price \n",
            "Predicted summary:  great\n",
            "\n",
            "\n",
            "Review: flavorful smells like heaven great price compared stores arrived fast \n",
            "Original summary: divine \n",
            "Predicted summary:  great coffee\n",
            "\n",
            "\n",
            "Review: love low calorie organic doctors recommend grams fiber daily smart bran grams per serving fruits veggies set day eat dry vanilla frozen yogurt cinnamon \n",
            "Original summary: yes to smart bran \n",
            "Predicted summary:  great cereal\n",
            "\n",
            "\n",
            "Review: found spice blend dallas years back tell restaurant using grilled shrimp like cajun spice grilling fish recommend store dry place replace every year least lose flavor \n",
            "Original summary: good stuff \n",
            "Predicted summary:  great\n",
            "\n",
            "\n",
            "Review: plain riceselect couscous delicious easy quick prepare great side item base main course far found bad product riceselect \n",
            "Original summary: yummy \n",
            "Predicted summary:  yummy\n",
            "\n",
            "\n"
          ]
        }
      ],
      "source": [
        "for i in range(0,100):\n",
        "    print(\"Review:\",seq2text(x_tr[i]))\n",
        "    print(\"Original summary:\",seq2summary(y_tr[i]))\n",
        "    print(\"Predicted summary:\",decode_sequence(x_tr[i].reshape(1,max_text_len)))\n",
        "    print(\"\\n\")"
      ]
    },
    {
      "cell_type": "code",
      "source": [
        "data[:2]"
      ],
      "metadata": {
        "colab": {
          "base_uri": "https://localhost:8080/",
          "height": 783
        },
        "id": "Wit5QPu8ZO-E",
        "outputId": "ce6b0ff1-bf04-437d-cada-43f408d5b6f2"
      },
      "execution_count": 82,
      "outputs": [
        {
          "output_type": "execute_result",
          "data": {
            "text/plain": [
              "   Id   ProductId          UserId ProfileName  HelpfulnessNumerator  \\\n",
              "0   1  B001E4KFG0  A3SGXH7AUHU8GW  delmartian                     1   \n",
              "1   2  B00813GRG4  A1D87F6ZCVE5NK      dll pa                     0   \n",
              "\n",
              "   HelpfulnessDenominator  Score        Time                Summary  \\\n",
              "0                       1      5  1303862400  Good Quality Dog Food   \n",
              "1                       0      1  1346976000      Not as Advertised   \n",
              "\n",
              "                                                                                                                                                                                                      Text  \\\n",
              "0  I have bought several of the Vitality canned dog food products and have found them all to be of good quality. The product looks more like a stew than a processed meat and it smells better. My Labr...   \n",
              "1           Product arrived labeled as Jumbo Salted Peanuts...the peanuts were actually small sized unsalted. Not sure if this was an error or if the vendor intended to represent the product as \"Jumbo\".   \n",
              "\n",
              "                                                                                                                                                           cleaned_text  \\\n",
              "0  bought several vitality canned dog food products found good quality product looks like stew processed meat smells better labrador finicky appreciates product better   \n",
              "1                                 product arrived labeled jumbo salted peanuts peanuts actually small sized unsalted sure error vendor intended represent product jumbo   \n",
              "\n",
              "         cleaned_summary  \n",
              "0  good quality dog food  \n",
              "1      not as advertised  "
            ],
            "text/html": [
              "\n",
              "  <div id=\"df-02ca8092-a843-4aa2-868b-648054335f65\">\n",
              "    <div class=\"colab-df-container\">\n",
              "      <div>\n",
              "<style scoped>\n",
              "    .dataframe tbody tr th:only-of-type {\n",
              "        vertical-align: middle;\n",
              "    }\n",
              "\n",
              "    .dataframe tbody tr th {\n",
              "        vertical-align: top;\n",
              "    }\n",
              "\n",
              "    .dataframe thead th {\n",
              "        text-align: right;\n",
              "    }\n",
              "</style>\n",
              "<table border=\"1\" class=\"dataframe\">\n",
              "  <thead>\n",
              "    <tr style=\"text-align: right;\">\n",
              "      <th></th>\n",
              "      <th>Id</th>\n",
              "      <th>ProductId</th>\n",
              "      <th>UserId</th>\n",
              "      <th>ProfileName</th>\n",
              "      <th>HelpfulnessNumerator</th>\n",
              "      <th>HelpfulnessDenominator</th>\n",
              "      <th>Score</th>\n",
              "      <th>Time</th>\n",
              "      <th>Summary</th>\n",
              "      <th>Text</th>\n",
              "      <th>cleaned_text</th>\n",
              "      <th>cleaned_summary</th>\n",
              "    </tr>\n",
              "  </thead>\n",
              "  <tbody>\n",
              "    <tr>\n",
              "      <th>0</th>\n",
              "      <td>1</td>\n",
              "      <td>B001E4KFG0</td>\n",
              "      <td>A3SGXH7AUHU8GW</td>\n",
              "      <td>delmartian</td>\n",
              "      <td>1</td>\n",
              "      <td>1</td>\n",
              "      <td>5</td>\n",
              "      <td>1303862400</td>\n",
              "      <td>Good Quality Dog Food</td>\n",
              "      <td>I have bought several of the Vitality canned dog food products and have found them all to be of good quality. The product looks more like a stew than a processed meat and it smells better. My Labr...</td>\n",
              "      <td>bought several vitality canned dog food products found good quality product looks like stew processed meat smells better labrador finicky appreciates product better</td>\n",
              "      <td>good quality dog food</td>\n",
              "    </tr>\n",
              "    <tr>\n",
              "      <th>1</th>\n",
              "      <td>2</td>\n",
              "      <td>B00813GRG4</td>\n",
              "      <td>A1D87F6ZCVE5NK</td>\n",
              "      <td>dll pa</td>\n",
              "      <td>0</td>\n",
              "      <td>0</td>\n",
              "      <td>1</td>\n",
              "      <td>1346976000</td>\n",
              "      <td>Not as Advertised</td>\n",
              "      <td>Product arrived labeled as Jumbo Salted Peanuts...the peanuts were actually small sized unsalted. Not sure if this was an error or if the vendor intended to represent the product as \"Jumbo\".</td>\n",
              "      <td>product arrived labeled jumbo salted peanuts peanuts actually small sized unsalted sure error vendor intended represent product jumbo</td>\n",
              "      <td>not as advertised</td>\n",
              "    </tr>\n",
              "  </tbody>\n",
              "</table>\n",
              "</div>\n",
              "      <button class=\"colab-df-convert\" onclick=\"convertToInteractive('df-02ca8092-a843-4aa2-868b-648054335f65')\"\n",
              "              title=\"Convert this dataframe to an interactive table.\"\n",
              "              style=\"display:none;\">\n",
              "        \n",
              "  <svg xmlns=\"http://www.w3.org/2000/svg\" height=\"24px\"viewBox=\"0 0 24 24\"\n",
              "       width=\"24px\">\n",
              "    <path d=\"M0 0h24v24H0V0z\" fill=\"none\"/>\n",
              "    <path d=\"M18.56 5.44l.94 2.06.94-2.06 2.06-.94-2.06-.94-.94-2.06-.94 2.06-2.06.94zm-11 1L8.5 8.5l.94-2.06 2.06-.94-2.06-.94L8.5 2.5l-.94 2.06-2.06.94zm10 10l.94 2.06.94-2.06 2.06-.94-2.06-.94-.94-2.06-.94 2.06-2.06.94z\"/><path d=\"M17.41 7.96l-1.37-1.37c-.4-.4-.92-.59-1.43-.59-.52 0-1.04.2-1.43.59L10.3 9.45l-7.72 7.72c-.78.78-.78 2.05 0 2.83L4 21.41c.39.39.9.59 1.41.59.51 0 1.02-.2 1.41-.59l7.78-7.78 2.81-2.81c.8-.78.8-2.07 0-2.86zM5.41 20L4 18.59l7.72-7.72 1.47 1.35L5.41 20z\"/>\n",
              "  </svg>\n",
              "      </button>\n",
              "      \n",
              "  <style>\n",
              "    .colab-df-container {\n",
              "      display:flex;\n",
              "      flex-wrap:wrap;\n",
              "      gap: 12px;\n",
              "    }\n",
              "\n",
              "    .colab-df-convert {\n",
              "      background-color: #E8F0FE;\n",
              "      border: none;\n",
              "      border-radius: 50%;\n",
              "      cursor: pointer;\n",
              "      display: none;\n",
              "      fill: #1967D2;\n",
              "      height: 32px;\n",
              "      padding: 0 0 0 0;\n",
              "      width: 32px;\n",
              "    }\n",
              "\n",
              "    .colab-df-convert:hover {\n",
              "      background-color: #E2EBFA;\n",
              "      box-shadow: 0px 1px 2px rgba(60, 64, 67, 0.3), 0px 1px 3px 1px rgba(60, 64, 67, 0.15);\n",
              "      fill: #174EA6;\n",
              "    }\n",
              "\n",
              "    [theme=dark] .colab-df-convert {\n",
              "      background-color: #3B4455;\n",
              "      fill: #D2E3FC;\n",
              "    }\n",
              "\n",
              "    [theme=dark] .colab-df-convert:hover {\n",
              "      background-color: #434B5C;\n",
              "      box-shadow: 0px 1px 3px 1px rgba(0, 0, 0, 0.15);\n",
              "      filter: drop-shadow(0px 1px 2px rgba(0, 0, 0, 0.3));\n",
              "      fill: #FFFFFF;\n",
              "    }\n",
              "  </style>\n",
              "\n",
              "      <script>\n",
              "        const buttonEl =\n",
              "          document.querySelector('#df-02ca8092-a843-4aa2-868b-648054335f65 button.colab-df-convert');\n",
              "        buttonEl.style.display =\n",
              "          google.colab.kernel.accessAllowed ? 'block' : 'none';\n",
              "\n",
              "        async function convertToInteractive(key) {\n",
              "          const element = document.querySelector('#df-02ca8092-a843-4aa2-868b-648054335f65');\n",
              "          const dataTable =\n",
              "            await google.colab.kernel.invokeFunction('convertToInteractive',\n",
              "                                                     [key], {});\n",
              "          if (!dataTable) return;\n",
              "\n",
              "          const docLinkHtml = 'Like what you see? Visit the ' +\n",
              "            '<a target=\"_blank\" href=https://colab.research.google.com/notebooks/data_table.ipynb>data table notebook</a>'\n",
              "            + ' to learn more about interactive tables.';\n",
              "          element.innerHTML = '';\n",
              "          dataTable['output_type'] = 'display_data';\n",
              "          await google.colab.output.renderOutput(dataTable, element);\n",
              "          const docLink = document.createElement('div');\n",
              "          docLink.innerHTML = docLinkHtml;\n",
              "          element.appendChild(docLink);\n",
              "        }\n",
              "      </script>\n",
              "    </div>\n",
              "  </div>\n",
              "  "
            ]
          },
          "metadata": {},
          "execution_count": 82
        }
      ]
    },
    {
      "cell_type": "code",
      "execution_count": 2,
      "metadata": {
        "id": "8suIdZdSyRRQ"
      },
      "outputs": [],
      "source": [
        "def calc_rouge_scores(pred_summaries, gold_summaries, \n",
        "                                 keys=['rouge1', 'rougeL'], use_stemmer=True):\n",
        "    #Calculate rouge scores\n",
        "    scorer = rouge_scorer.RougeScorer(keys, use_stemmer= use_stemmer)\n",
        "    \n",
        "    n = len(pred_summaries)\n",
        "    \n",
        "    scores = [scorer.score(pred_summaries[j], gold_summaries[j]) for \n",
        "              j in range(n)] \n",
        "    \n",
        "    dict_scores={}                                                            \n",
        "    for key in keys:\n",
        "        dict_scores.update({key: {}})\n",
        "        \n",
        "    \n",
        "    for key in keys:\n",
        "        \n",
        "        precision_list = [scores[j][key][0] for j in range(len(scores))]\n",
        "        recall_list = [scores[j][key][1] for j in range(len(scores))]\n",
        "        f1_list = [scores[j][key][2] for j in range(len(scores))]\n",
        "\n",
        "        precision = np.mean(precision_list)\n",
        "        recall = np.mean(recall_list)\n",
        "        f1 = np.mean(f1_list)\n",
        "        \n",
        "        dict_results = {'recall': recall, 'precision': precision, 'f1': f1}\n",
        "        \n",
        "        dict_scores[key] = dict_results\n",
        "        \n",
        "    return dict_scores"
      ]
    },
    {
      "cell_type": "code",
      "execution_count": 3,
      "metadata": {
        "id": "x4YH1RSIyTQ7",
        "colab": {
          "base_uri": "https://localhost:8080/",
          "height": 204
        },
        "outputId": "a3fe4493-522e-4687-df79-2b6db5508dc5"
      },
      "outputs": [
        {
          "output_type": "error",
          "ename": "NameError",
          "evalue": "ignored",
          "traceback": [
            "\u001b[0;31m---------------------------------------------------------------------------\u001b[0m",
            "\u001b[0;31mNameError\u001b[0m                                 Traceback (most recent call last)",
            "\u001b[0;32m<ipython-input-3-9760bb148af0>\u001b[0m in \u001b[0;36m<module>\u001b[0;34m()\u001b[0m\n\u001b[0;32m----> 1\u001b[0;31m scores = calc_rouge_scores(pred_summaries, gold_summaries, \n\u001b[0m\u001b[1;32m      2\u001b[0m                                   keys=['rouge1', 'rougeL'], use_stemmer=True)\n\u001b[1;32m      3\u001b[0m \u001b[0mprint\u001b[0m\u001b[0;34m(\u001b[0m\u001b[0mscores\u001b[0m\u001b[0;34m)\u001b[0m\u001b[0;34m\u001b[0m\u001b[0;34m\u001b[0m\u001b[0m\n",
            "\u001b[0;31mNameError\u001b[0m: name 'pred_summaries' is not defined"
          ]
        }
      ],
      "source": [
        "scores = calc_rouge_scores(pred_summaries, gold_summaries, \n",
        "                                  keys=['rouge1', 'rougeL'], use_stemmer=True)\n",
        "print(scores)"
      ]
    },
    {
      "cell_type": "code",
      "execution_count": null,
      "metadata": {
        "id": "AvH4wzX8EqiH"
      },
      "outputs": [],
      "source": [
        "def summary_save(val):\n",
        " data1=[]\n",
        " data2=[]\n",
        " for i in range(0,val):\n",
        "  data=[]\n",
        "  data_p=[]\n",
        "  s=seq2summary(y_tr[i])\n",
        "  p=decode_sequence(x_tr[i].reshape(1,max_text_len))\n",
        "  data.append(s) \n",
        "  data_p.append(p)\n",
        "  data1.append(data)\n",
        "  data2.append(data_p)\n",
        " return data1,data2 "
      ]
    },
    {
      "cell_type": "code",
      "execution_count": null,
      "metadata": {
        "id": "0qZTuYsMFFBT"
      },
      "outputs": [],
      "source": [
        "data1, data2 = summary_save(200)"
      ]
    },
    {
      "cell_type": "code",
      "execution_count": null,
      "metadata": {
        "id": "TibjwzVwh5cq"
      },
      "outputs": [],
      "source": [
        "import csv  \n",
        "\n",
        "header = ['original_summary']\n",
        "header1=['predicted_summary']\n",
        "\n",
        "with open('original.csv', 'w', encoding='UTF8') as f:\n",
        "    writer = csv.writer(f)\n",
        "\n",
        "    # write the header\n",
        "    writer.writerow(header)\n",
        "\n",
        "    # write the data\n",
        "    writer.writerows(data1)\n",
        "\n",
        "\n",
        "\n",
        "with open('predicted.csv', 'w', encoding='UTF8') as f:\n",
        "    writer = csv.writer(f)\n",
        "\n",
        "    # write the header\n",
        "    writer.writerow(header1)\n",
        "\n",
        "    # write the data\n",
        "    writer.writerows(data2)    "
      ]
    },
    {
      "cell_type": "code",
      "execution_count": null,
      "metadata": {
        "id": "xLrHVMw2-n2d"
      },
      "outputs": [],
      "source": [
        "from google.colab import drive\n",
        "drive.mount('/content/gdrive')"
      ]
    },
    {
      "cell_type": "code",
      "execution_count": null,
      "metadata": {
        "id": "lhuFAaW5NcU_"
      },
      "outputs": [],
      "source": [
        "from rouge_score import rouge_scorer"
      ]
    },
    {
      "cell_type": "code",
      "execution_count": null,
      "metadata": {
        "id": "boKCHsojNcU_"
      },
      "outputs": [],
      "source": [
        "predicted_amazon_lstm_df=pd.read_csv('predicted.csv')\n",
        "original_amazon_lstm_df=pd.read_csv('original.csv')"
      ]
    },
    {
      "cell_type": "code",
      "execution_count": null,
      "metadata": {
        "id": "AVRY67YuNcU_"
      },
      "outputs": [],
      "source": [
        "predicted_summary_amazon_lstm=[]\n",
        "original_summary_amazon_lstm=[]\n",
        "for i in range(predicted_amazon_lstm_df.shape[0]):\n",
        "    predicted_summary_amazon_lstm.append(predicted_amazon_lstm_df['predicted_summary'][i])\n",
        "    original_summary_amazon_lstm.append(original_amazon_lstm_df['original_summary'][i])"
      ]
    },
    {
      "cell_type": "code",
      "execution_count": null,
      "metadata": {
        "id": "xVY7t7x2NcU_"
      },
      "outputs": [],
      "source": [
        "dict_scores_amazon_lstm=calc_rouge_scores(predicted_summary_amazon_lstm,original_summary_amazon_lstm)"
      ]
    },
    {
      "cell_type": "code",
      "execution_count": null,
      "metadata": {
        "id": "Zx3kO0zwNcU_"
      },
      "outputs": [],
      "source": [
        "dict_scores_amazon_lstm"
      ]
    }
  ],
  "metadata": {
    "colab": {
      "collapsed_sections": [],
      "name": "Project_NLP_Seq2Seq.ipynb",
      "provenance": []
    },
    "kernelspec": {
      "display_name": "Python 3",
      "language": "python",
      "name": "python3"
    },
    "language_info": {
      "codemirror_mode": {
        "name": "ipython",
        "version": 3
      },
      "file_extension": ".py",
      "mimetype": "text/x-python",
      "name": "python",
      "nbconvert_exporter": "python",
      "pygments_lexer": "ipython3",
      "version": "3.8.5"
    }
  },
  "nbformat": 4,
  "nbformat_minor": 0
}